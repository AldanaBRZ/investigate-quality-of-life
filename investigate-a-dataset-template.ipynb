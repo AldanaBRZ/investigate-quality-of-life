{
 "cells": [
  {
   "cell_type": "markdown",
   "metadata": {},
   "source": [
    "# Project: Investigate Gapminder dataset about quality of life\n",
    "\n",
    "## Table of Contents\n",
    "<ul>\n",
    "<li><a href=\"#intro\">Introduction</a></li>\n",
    "<li><a href=\"#wrangling\">Data Wrangling</a></li>\n",
    "<li><a href=\"#eda\">Exploratory Data Analysis</a></li>\n",
    "<li><a href=\"#limitations\">Limitations</a></li>\n",
    "<li><a href=\"#conclusions\">Conclusions</a></li>\n",
    "</ul>"
   ]
  },
  {
   "cell_type": "markdown",
   "metadata": {},
   "source": [
    "<a id='intro'></a>\n",
    "## Introduction\n",
    "\n",
    "> I've selected the following datasets for my analysis: \n",
    ">\n",
    "> - Child mortality (0-5 year-olds dying per 1000 born)\n",
    "> - Children per woman (The number of children that would be born to each woman with prevailing age-specific fertility rates)\n",
    "> - GDP per capita (Gross domestic product per person adjusted for differences in purchasing power)\n",
    "> - Life expectancy (The average number of years a newborn child would live if current mortality patterns were to stay the same)\n",
    "> - Population\n",
    ">\n",
    "> All the data was taken from <a href=\"https://www.gapminder.org/data/\">Gapminder</a>.\n",
    "\n",
    "> I will ask the following questions: \n",
    "> \n",
    "> - <a href=\"#q1\">Is the world getting better off than a century ago? </a>\n",
    "> - <a href=\"#q2\">What is happening with child mortality over time?</a>\n",
    "> - <a href=\"#q3\">Are women having more or less children with time?</a>\n",
    "> - <a href=\"#q4\">What is happening with population over time?</a>\n",
    "> - <a href=\"#q5\">What is happening with GDP per capita over time?</a>\n",
    "> - <a href=\"#q6\">What is happening with life expectancy over time?</a>\n",
    "> - <a href=\"#q7\">Does higher GDP per capita lead to lower child mortality?</a>\n",
    "> - <a href=\"#q8\">Does higher GDP per capita lead to higher life expectancy?</a>\n",
    "> - <a href=\"#q9\">Does higher GDP per capita lead to less children per woman?</a>\n",
    "> - <a href=\"#q10\">Does lower children per woman lead to lower child mortality?</a>\n",
    "> - <a href=\"#q11\">Does the wealthiest country have less children dying than the poorest country? What about the country that's in the middle in wealth?</a></li>"
   ]
  },
  {
   "cell_type": "markdown",
   "metadata": {},
   "source": [
    "<a id='wrangling'></a>\n",
    "## Data Wrangling\n",
    "\n",
    "### General Properties"
   ]
  },
  {
   "cell_type": "code",
   "execution_count": 1,
   "metadata": {},
   "outputs": [],
   "source": [
    "import numpy as np\n",
    "import pandas as pd \n",
    "import matplotlib.pyplot as plt\n",
    "import seaborn as sns\n",
    "%matplotlib inline"
   ]
  },
  {
   "cell_type": "markdown",
   "metadata": {},
   "source": [
    "First I'll import the dataframes and save them in variables with names that correspond to what they are. I'll also set the first column as the index column, because it has the countries names."
   ]
  },
  {
   "cell_type": "code",
   "execution_count": 2,
   "metadata": {},
   "outputs": [],
   "source": [
    "child_mortality = pd.read_csv('child_mortality.csv', index_col=0)\n",
    "children_per_woman = pd.read_csv('children_per_woman.csv', index_col=0)\n",
    "gdp_per_capita = pd.read_csv('income_per_person.csv', index_col=0)\n",
    "life_expectancy = pd.read_csv('life_expectancy_years.csv', index_col=0)\n",
    "population = pd.read_csv('population.csv', index_col=0)"
   ]
  },
  {
   "cell_type": "markdown",
   "metadata": {},
   "source": [
    "I'll now check the head of each dataframe to get an idea of how it looks like. I'll also have to check for NaN values and either replace them with the mean value of each column, or drop those columns. I'll have to see as well if there are any duplicated rows, and drop them if they exist."
   ]
  },
  {
   "cell_type": "code",
   "execution_count": 3,
   "metadata": {},
   "outputs": [
    {
     "data": {
      "text/html": [
       "<div>\n",
       "<style scoped>\n",
       "    .dataframe tbody tr th:only-of-type {\n",
       "        vertical-align: middle;\n",
       "    }\n",
       "\n",
       "    .dataframe tbody tr th {\n",
       "        vertical-align: top;\n",
       "    }\n",
       "\n",
       "    .dataframe thead th {\n",
       "        text-align: right;\n",
       "    }\n",
       "</style>\n",
       "<table border=\"1\" class=\"dataframe\">\n",
       "  <thead>\n",
       "    <tr style=\"text-align: right;\">\n",
       "      <th></th>\n",
       "      <th>1800</th>\n",
       "      <th>1801</th>\n",
       "      <th>1802</th>\n",
       "      <th>1803</th>\n",
       "      <th>1804</th>\n",
       "      <th>1805</th>\n",
       "      <th>1806</th>\n",
       "      <th>1807</th>\n",
       "      <th>1808</th>\n",
       "      <th>1809</th>\n",
       "      <th>...</th>\n",
       "      <th>2091</th>\n",
       "      <th>2092</th>\n",
       "      <th>2093</th>\n",
       "      <th>2094</th>\n",
       "      <th>2095</th>\n",
       "      <th>2096</th>\n",
       "      <th>2097</th>\n",
       "      <th>2098</th>\n",
       "      <th>2099</th>\n",
       "      <th>2100</th>\n",
       "    </tr>\n",
       "    <tr>\n",
       "      <th>country</th>\n",
       "      <th></th>\n",
       "      <th></th>\n",
       "      <th></th>\n",
       "      <th></th>\n",
       "      <th></th>\n",
       "      <th></th>\n",
       "      <th></th>\n",
       "      <th></th>\n",
       "      <th></th>\n",
       "      <th></th>\n",
       "      <th></th>\n",
       "      <th></th>\n",
       "      <th></th>\n",
       "      <th></th>\n",
       "      <th></th>\n",
       "      <th></th>\n",
       "      <th></th>\n",
       "      <th></th>\n",
       "      <th></th>\n",
       "      <th></th>\n",
       "      <th></th>\n",
       "    </tr>\n",
       "  </thead>\n",
       "  <tbody>\n",
       "    <tr>\n",
       "      <th>Afghanistan</th>\n",
       "      <td>469.0</td>\n",
       "      <td>469.0</td>\n",
       "      <td>469.0</td>\n",
       "      <td>469.0</td>\n",
       "      <td>469.0</td>\n",
       "      <td>469.0</td>\n",
       "      <td>470.0</td>\n",
       "      <td>470.0</td>\n",
       "      <td>470.0</td>\n",
       "      <td>470.0</td>\n",
       "      <td>...</td>\n",
       "      <td>12.60</td>\n",
       "      <td>12.4</td>\n",
       "      <td>12.20</td>\n",
       "      <td>12.00</td>\n",
       "      <td>11.80</td>\n",
       "      <td>11.60</td>\n",
       "      <td>11.50</td>\n",
       "      <td>11.30</td>\n",
       "      <td>11.10</td>\n",
       "      <td>11.10</td>\n",
       "    </tr>\n",
       "    <tr>\n",
       "      <th>Albania</th>\n",
       "      <td>375.0</td>\n",
       "      <td>375.0</td>\n",
       "      <td>375.0</td>\n",
       "      <td>375.0</td>\n",
       "      <td>375.0</td>\n",
       "      <td>375.0</td>\n",
       "      <td>375.0</td>\n",
       "      <td>375.0</td>\n",
       "      <td>375.0</td>\n",
       "      <td>375.0</td>\n",
       "      <td>...</td>\n",
       "      <td>2.32</td>\n",
       "      <td>2.3</td>\n",
       "      <td>2.27</td>\n",
       "      <td>2.24</td>\n",
       "      <td>2.22</td>\n",
       "      <td>2.19</td>\n",
       "      <td>2.16</td>\n",
       "      <td>2.14</td>\n",
       "      <td>2.11</td>\n",
       "      <td>2.11</td>\n",
       "    </tr>\n",
       "  </tbody>\n",
       "</table>\n",
       "<p>2 rows × 301 columns</p>\n",
       "</div>"
      ],
      "text/plain": [
       "              1800   1801   1802   1803   1804   1805   1806   1807   1808  \\\n",
       "country                                                                      \n",
       "Afghanistan  469.0  469.0  469.0  469.0  469.0  469.0  470.0  470.0  470.0   \n",
       "Albania      375.0  375.0  375.0  375.0  375.0  375.0  375.0  375.0  375.0   \n",
       "\n",
       "              1809  ...   2091  2092   2093   2094   2095   2096   2097  \\\n",
       "country             ...                                                   \n",
       "Afghanistan  470.0  ...  12.60  12.4  12.20  12.00  11.80  11.60  11.50   \n",
       "Albania      375.0  ...   2.32   2.3   2.27   2.24   2.22   2.19   2.16   \n",
       "\n",
       "              2098   2099   2100  \n",
       "country                           \n",
       "Afghanistan  11.30  11.10  11.10  \n",
       "Albania       2.14   2.11   2.11  \n",
       "\n",
       "[2 rows x 301 columns]"
      ]
     },
     "execution_count": 3,
     "metadata": {},
     "output_type": "execute_result"
    }
   ],
   "source": [
    "child_mortality.head(2)"
   ]
  },
  {
   "cell_type": "code",
   "execution_count": 4,
   "metadata": {},
   "outputs": [
    {
     "data": {
      "text/html": [
       "<div>\n",
       "<style scoped>\n",
       "    .dataframe tbody tr th:only-of-type {\n",
       "        vertical-align: middle;\n",
       "    }\n",
       "\n",
       "    .dataframe tbody tr th {\n",
       "        vertical-align: top;\n",
       "    }\n",
       "\n",
       "    .dataframe thead th {\n",
       "        text-align: right;\n",
       "    }\n",
       "</style>\n",
       "<table border=\"1\" class=\"dataframe\">\n",
       "  <thead>\n",
       "    <tr style=\"text-align: right;\">\n",
       "      <th></th>\n",
       "      <th>1800</th>\n",
       "      <th>1801</th>\n",
       "      <th>1802</th>\n",
       "      <th>1803</th>\n",
       "      <th>1804</th>\n",
       "      <th>1805</th>\n",
       "      <th>1806</th>\n",
       "      <th>1807</th>\n",
       "      <th>1808</th>\n",
       "      <th>1809</th>\n",
       "      <th>...</th>\n",
       "      <th>2091</th>\n",
       "      <th>2092</th>\n",
       "      <th>2093</th>\n",
       "      <th>2094</th>\n",
       "      <th>2095</th>\n",
       "      <th>2096</th>\n",
       "      <th>2097</th>\n",
       "      <th>2098</th>\n",
       "      <th>2099</th>\n",
       "      <th>2100</th>\n",
       "    </tr>\n",
       "    <tr>\n",
       "      <th>country</th>\n",
       "      <th></th>\n",
       "      <th></th>\n",
       "      <th></th>\n",
       "      <th></th>\n",
       "      <th></th>\n",
       "      <th></th>\n",
       "      <th></th>\n",
       "      <th></th>\n",
       "      <th></th>\n",
       "      <th></th>\n",
       "      <th></th>\n",
       "      <th></th>\n",
       "      <th></th>\n",
       "      <th></th>\n",
       "      <th></th>\n",
       "      <th></th>\n",
       "      <th></th>\n",
       "      <th></th>\n",
       "      <th></th>\n",
       "      <th></th>\n",
       "      <th></th>\n",
       "    </tr>\n",
       "  </thead>\n",
       "  <tbody>\n",
       "    <tr>\n",
       "      <th>Afghanistan</th>\n",
       "      <td>7.0</td>\n",
       "      <td>7.0</td>\n",
       "      <td>7.0</td>\n",
       "      <td>7.0</td>\n",
       "      <td>7.0</td>\n",
       "      <td>7.0</td>\n",
       "      <td>7.0</td>\n",
       "      <td>7.0</td>\n",
       "      <td>7.0</td>\n",
       "      <td>7.0</td>\n",
       "      <td>...</td>\n",
       "      <td>1.74</td>\n",
       "      <td>1.74</td>\n",
       "      <td>1.74</td>\n",
       "      <td>1.74</td>\n",
       "      <td>1.74</td>\n",
       "      <td>1.74</td>\n",
       "      <td>1.74</td>\n",
       "      <td>1.74</td>\n",
       "      <td>1.74</td>\n",
       "      <td>1.74</td>\n",
       "    </tr>\n",
       "    <tr>\n",
       "      <th>Albania</th>\n",
       "      <td>4.6</td>\n",
       "      <td>4.6</td>\n",
       "      <td>4.6</td>\n",
       "      <td>4.6</td>\n",
       "      <td>4.6</td>\n",
       "      <td>4.6</td>\n",
       "      <td>4.6</td>\n",
       "      <td>4.6</td>\n",
       "      <td>4.6</td>\n",
       "      <td>4.6</td>\n",
       "      <td>...</td>\n",
       "      <td>1.78</td>\n",
       "      <td>1.78</td>\n",
       "      <td>1.78</td>\n",
       "      <td>1.79</td>\n",
       "      <td>1.79</td>\n",
       "      <td>1.79</td>\n",
       "      <td>1.79</td>\n",
       "      <td>1.79</td>\n",
       "      <td>1.79</td>\n",
       "      <td>1.79</td>\n",
       "    </tr>\n",
       "  </tbody>\n",
       "</table>\n",
       "<p>2 rows × 301 columns</p>\n",
       "</div>"
      ],
      "text/plain": [
       "             1800  1801  1802  1803  1804  1805  1806  1807  1808  1809  ...  \\\n",
       "country                                                                  ...   \n",
       "Afghanistan   7.0   7.0   7.0   7.0   7.0   7.0   7.0   7.0   7.0   7.0  ...   \n",
       "Albania       4.6   4.6   4.6   4.6   4.6   4.6   4.6   4.6   4.6   4.6  ...   \n",
       "\n",
       "             2091  2092  2093  2094  2095  2096  2097  2098  2099  2100  \n",
       "country                                                                  \n",
       "Afghanistan  1.74  1.74  1.74  1.74  1.74  1.74  1.74  1.74  1.74  1.74  \n",
       "Albania      1.78  1.78  1.78  1.79  1.79  1.79  1.79  1.79  1.79  1.79  \n",
       "\n",
       "[2 rows x 301 columns]"
      ]
     },
     "execution_count": 4,
     "metadata": {},
     "output_type": "execute_result"
    }
   ],
   "source": [
    "children_per_woman.head(2)"
   ]
  },
  {
   "cell_type": "code",
   "execution_count": 5,
   "metadata": {},
   "outputs": [
    {
     "data": {
      "text/html": [
       "<div>\n",
       "<style scoped>\n",
       "    .dataframe tbody tr th:only-of-type {\n",
       "        vertical-align: middle;\n",
       "    }\n",
       "\n",
       "    .dataframe tbody tr th {\n",
       "        vertical-align: top;\n",
       "    }\n",
       "\n",
       "    .dataframe thead th {\n",
       "        text-align: right;\n",
       "    }\n",
       "</style>\n",
       "<table border=\"1\" class=\"dataframe\">\n",
       "  <thead>\n",
       "    <tr style=\"text-align: right;\">\n",
       "      <th></th>\n",
       "      <th>1800</th>\n",
       "      <th>1801</th>\n",
       "      <th>1802</th>\n",
       "      <th>1803</th>\n",
       "      <th>1804</th>\n",
       "      <th>1805</th>\n",
       "      <th>1806</th>\n",
       "      <th>1807</th>\n",
       "      <th>1808</th>\n",
       "      <th>1809</th>\n",
       "      <th>...</th>\n",
       "      <th>2031</th>\n",
       "      <th>2032</th>\n",
       "      <th>2033</th>\n",
       "      <th>2034</th>\n",
       "      <th>2035</th>\n",
       "      <th>2036</th>\n",
       "      <th>2037</th>\n",
       "      <th>2038</th>\n",
       "      <th>2039</th>\n",
       "      <th>2040</th>\n",
       "    </tr>\n",
       "    <tr>\n",
       "      <th>country</th>\n",
       "      <th></th>\n",
       "      <th></th>\n",
       "      <th></th>\n",
       "      <th></th>\n",
       "      <th></th>\n",
       "      <th></th>\n",
       "      <th></th>\n",
       "      <th></th>\n",
       "      <th></th>\n",
       "      <th></th>\n",
       "      <th></th>\n",
       "      <th></th>\n",
       "      <th></th>\n",
       "      <th></th>\n",
       "      <th></th>\n",
       "      <th></th>\n",
       "      <th></th>\n",
       "      <th></th>\n",
       "      <th></th>\n",
       "      <th></th>\n",
       "      <th></th>\n",
       "    </tr>\n",
       "  </thead>\n",
       "  <tbody>\n",
       "    <tr>\n",
       "      <th>Afghanistan</th>\n",
       "      <td>603</td>\n",
       "      <td>603</td>\n",
       "      <td>603</td>\n",
       "      <td>603</td>\n",
       "      <td>603</td>\n",
       "      <td>603</td>\n",
       "      <td>603</td>\n",
       "      <td>603</td>\n",
       "      <td>603</td>\n",
       "      <td>603</td>\n",
       "      <td>...</td>\n",
       "      <td>2550</td>\n",
       "      <td>2600</td>\n",
       "      <td>2660</td>\n",
       "      <td>2710</td>\n",
       "      <td>2770</td>\n",
       "      <td>2820</td>\n",
       "      <td>2880</td>\n",
       "      <td>2940</td>\n",
       "      <td>3000</td>\n",
       "      <td>3060</td>\n",
       "    </tr>\n",
       "    <tr>\n",
       "      <th>Albania</th>\n",
       "      <td>667</td>\n",
       "      <td>667</td>\n",
       "      <td>667</td>\n",
       "      <td>667</td>\n",
       "      <td>667</td>\n",
       "      <td>668</td>\n",
       "      <td>668</td>\n",
       "      <td>668</td>\n",
       "      <td>668</td>\n",
       "      <td>668</td>\n",
       "      <td>...</td>\n",
       "      <td>19400</td>\n",
       "      <td>19800</td>\n",
       "      <td>20200</td>\n",
       "      <td>20600</td>\n",
       "      <td>21000</td>\n",
       "      <td>21500</td>\n",
       "      <td>21900</td>\n",
       "      <td>22300</td>\n",
       "      <td>22800</td>\n",
       "      <td>23300</td>\n",
       "    </tr>\n",
       "  </tbody>\n",
       "</table>\n",
       "<p>2 rows × 241 columns</p>\n",
       "</div>"
      ],
      "text/plain": [
       "             1800  1801  1802  1803  1804  1805  1806  1807  1808  1809  ...  \\\n",
       "country                                                                  ...   \n",
       "Afghanistan   603   603   603   603   603   603   603   603   603   603  ...   \n",
       "Albania       667   667   667   667   667   668   668   668   668   668  ...   \n",
       "\n",
       "              2031   2032   2033   2034   2035   2036   2037   2038   2039  \\\n",
       "country                                                                      \n",
       "Afghanistan   2550   2600   2660   2710   2770   2820   2880   2940   3000   \n",
       "Albania      19400  19800  20200  20600  21000  21500  21900  22300  22800   \n",
       "\n",
       "              2040  \n",
       "country             \n",
       "Afghanistan   3060  \n",
       "Albania      23300  \n",
       "\n",
       "[2 rows x 241 columns]"
      ]
     },
     "execution_count": 5,
     "metadata": {},
     "output_type": "execute_result"
    }
   ],
   "source": [
    "gdp_per_capita.head(2)"
   ]
  },
  {
   "cell_type": "code",
   "execution_count": 6,
   "metadata": {},
   "outputs": [
    {
     "data": {
      "text/html": [
       "<div>\n",
       "<style scoped>\n",
       "    .dataframe tbody tr th:only-of-type {\n",
       "        vertical-align: middle;\n",
       "    }\n",
       "\n",
       "    .dataframe tbody tr th {\n",
       "        vertical-align: top;\n",
       "    }\n",
       "\n",
       "    .dataframe thead th {\n",
       "        text-align: right;\n",
       "    }\n",
       "</style>\n",
       "<table border=\"1\" class=\"dataframe\">\n",
       "  <thead>\n",
       "    <tr style=\"text-align: right;\">\n",
       "      <th></th>\n",
       "      <th>1800</th>\n",
       "      <th>1801</th>\n",
       "      <th>1802</th>\n",
       "      <th>1803</th>\n",
       "      <th>1804</th>\n",
       "      <th>1805</th>\n",
       "      <th>1806</th>\n",
       "      <th>1807</th>\n",
       "      <th>1808</th>\n",
       "      <th>1809</th>\n",
       "      <th>...</th>\n",
       "      <th>2091</th>\n",
       "      <th>2092</th>\n",
       "      <th>2093</th>\n",
       "      <th>2094</th>\n",
       "      <th>2095</th>\n",
       "      <th>2096</th>\n",
       "      <th>2097</th>\n",
       "      <th>2098</th>\n",
       "      <th>2099</th>\n",
       "      <th>2100</th>\n",
       "    </tr>\n",
       "    <tr>\n",
       "      <th>country</th>\n",
       "      <th></th>\n",
       "      <th></th>\n",
       "      <th></th>\n",
       "      <th></th>\n",
       "      <th></th>\n",
       "      <th></th>\n",
       "      <th></th>\n",
       "      <th></th>\n",
       "      <th></th>\n",
       "      <th></th>\n",
       "      <th></th>\n",
       "      <th></th>\n",
       "      <th></th>\n",
       "      <th></th>\n",
       "      <th></th>\n",
       "      <th></th>\n",
       "      <th></th>\n",
       "      <th></th>\n",
       "      <th></th>\n",
       "      <th></th>\n",
       "      <th></th>\n",
       "    </tr>\n",
       "  </thead>\n",
       "  <tbody>\n",
       "    <tr>\n",
       "      <th>Afghanistan</th>\n",
       "      <td>28.2</td>\n",
       "      <td>28.2</td>\n",
       "      <td>28.2</td>\n",
       "      <td>28.2</td>\n",
       "      <td>28.2</td>\n",
       "      <td>28.2</td>\n",
       "      <td>28.1</td>\n",
       "      <td>28.1</td>\n",
       "      <td>28.1</td>\n",
       "      <td>28.1</td>\n",
       "      <td>...</td>\n",
       "      <td>76.5</td>\n",
       "      <td>76.6</td>\n",
       "      <td>76.7</td>\n",
       "      <td>76.9</td>\n",
       "      <td>77.0</td>\n",
       "      <td>77.1</td>\n",
       "      <td>77.3</td>\n",
       "      <td>77.4</td>\n",
       "      <td>77.5</td>\n",
       "      <td>77.7</td>\n",
       "    </tr>\n",
       "    <tr>\n",
       "      <th>Albania</th>\n",
       "      <td>35.4</td>\n",
       "      <td>35.4</td>\n",
       "      <td>35.4</td>\n",
       "      <td>35.4</td>\n",
       "      <td>35.4</td>\n",
       "      <td>35.4</td>\n",
       "      <td>35.4</td>\n",
       "      <td>35.4</td>\n",
       "      <td>35.4</td>\n",
       "      <td>35.4</td>\n",
       "      <td>...</td>\n",
       "      <td>87.4</td>\n",
       "      <td>87.5</td>\n",
       "      <td>87.6</td>\n",
       "      <td>87.7</td>\n",
       "      <td>87.8</td>\n",
       "      <td>87.9</td>\n",
       "      <td>88.0</td>\n",
       "      <td>88.1</td>\n",
       "      <td>88.2</td>\n",
       "      <td>88.3</td>\n",
       "    </tr>\n",
       "  </tbody>\n",
       "</table>\n",
       "<p>2 rows × 301 columns</p>\n",
       "</div>"
      ],
      "text/plain": [
       "             1800  1801  1802  1803  1804  1805  1806  1807  1808  1809  ...  \\\n",
       "country                                                                  ...   \n",
       "Afghanistan  28.2  28.2  28.2  28.2  28.2  28.2  28.1  28.1  28.1  28.1  ...   \n",
       "Albania      35.4  35.4  35.4  35.4  35.4  35.4  35.4  35.4  35.4  35.4  ...   \n",
       "\n",
       "             2091  2092  2093  2094  2095  2096  2097  2098  2099  2100  \n",
       "country                                                                  \n",
       "Afghanistan  76.5  76.6  76.7  76.9  77.0  77.1  77.3  77.4  77.5  77.7  \n",
       "Albania      87.4  87.5  87.6  87.7  87.8  87.9  88.0  88.1  88.2  88.3  \n",
       "\n",
       "[2 rows x 301 columns]"
      ]
     },
     "execution_count": 6,
     "metadata": {},
     "output_type": "execute_result"
    }
   ],
   "source": [
    "life_expectancy.head(2)"
   ]
  },
  {
   "cell_type": "code",
   "execution_count": 7,
   "metadata": {
    "scrolled": true
   },
   "outputs": [
    {
     "data": {
      "text/html": [
       "<div>\n",
       "<style scoped>\n",
       "    .dataframe tbody tr th:only-of-type {\n",
       "        vertical-align: middle;\n",
       "    }\n",
       "\n",
       "    .dataframe tbody tr th {\n",
       "        vertical-align: top;\n",
       "    }\n",
       "\n",
       "    .dataframe thead th {\n",
       "        text-align: right;\n",
       "    }\n",
       "</style>\n",
       "<table border=\"1\" class=\"dataframe\">\n",
       "  <thead>\n",
       "    <tr style=\"text-align: right;\">\n",
       "      <th></th>\n",
       "      <th>1800</th>\n",
       "      <th>1801</th>\n",
       "      <th>1802</th>\n",
       "      <th>1803</th>\n",
       "      <th>1804</th>\n",
       "      <th>1805</th>\n",
       "      <th>1806</th>\n",
       "      <th>1807</th>\n",
       "      <th>1808</th>\n",
       "      <th>1809</th>\n",
       "      <th>...</th>\n",
       "      <th>2091</th>\n",
       "      <th>2092</th>\n",
       "      <th>2093</th>\n",
       "      <th>2094</th>\n",
       "      <th>2095</th>\n",
       "      <th>2096</th>\n",
       "      <th>2097</th>\n",
       "      <th>2098</th>\n",
       "      <th>2099</th>\n",
       "      <th>2100</th>\n",
       "    </tr>\n",
       "    <tr>\n",
       "      <th>country</th>\n",
       "      <th></th>\n",
       "      <th></th>\n",
       "      <th></th>\n",
       "      <th></th>\n",
       "      <th></th>\n",
       "      <th></th>\n",
       "      <th></th>\n",
       "      <th></th>\n",
       "      <th></th>\n",
       "      <th></th>\n",
       "      <th></th>\n",
       "      <th></th>\n",
       "      <th></th>\n",
       "      <th></th>\n",
       "      <th></th>\n",
       "      <th></th>\n",
       "      <th></th>\n",
       "      <th></th>\n",
       "      <th></th>\n",
       "      <th></th>\n",
       "      <th></th>\n",
       "    </tr>\n",
       "  </thead>\n",
       "  <tbody>\n",
       "    <tr>\n",
       "      <th>Afghanistan</th>\n",
       "      <td>3280000</td>\n",
       "      <td>3280000</td>\n",
       "      <td>3280000</td>\n",
       "      <td>3280000</td>\n",
       "      <td>3280000</td>\n",
       "      <td>3280000</td>\n",
       "      <td>3280000</td>\n",
       "      <td>3280000</td>\n",
       "      <td>3280000</td>\n",
       "      <td>3280000</td>\n",
       "      <td>...</td>\n",
       "      <td>76600000</td>\n",
       "      <td>76400000</td>\n",
       "      <td>76300000</td>\n",
       "      <td>76100000</td>\n",
       "      <td>76000000</td>\n",
       "      <td>75800000</td>\n",
       "      <td>75600000</td>\n",
       "      <td>75400000</td>\n",
       "      <td>75200000</td>\n",
       "      <td>74900000</td>\n",
       "    </tr>\n",
       "    <tr>\n",
       "      <th>Albania</th>\n",
       "      <td>400000</td>\n",
       "      <td>402000</td>\n",
       "      <td>404000</td>\n",
       "      <td>405000</td>\n",
       "      <td>407000</td>\n",
       "      <td>409000</td>\n",
       "      <td>411000</td>\n",
       "      <td>413000</td>\n",
       "      <td>414000</td>\n",
       "      <td>416000</td>\n",
       "      <td>...</td>\n",
       "      <td>1330000</td>\n",
       "      <td>1300000</td>\n",
       "      <td>1270000</td>\n",
       "      <td>1250000</td>\n",
       "      <td>1220000</td>\n",
       "      <td>1190000</td>\n",
       "      <td>1170000</td>\n",
       "      <td>1140000</td>\n",
       "      <td>1110000</td>\n",
       "      <td>1090000</td>\n",
       "    </tr>\n",
       "  </tbody>\n",
       "</table>\n",
       "<p>2 rows × 301 columns</p>\n",
       "</div>"
      ],
      "text/plain": [
       "                1800     1801     1802     1803     1804     1805     1806  \\\n",
       "country                                                                      \n",
       "Afghanistan  3280000  3280000  3280000  3280000  3280000  3280000  3280000   \n",
       "Albania       400000   402000   404000   405000   407000   409000   411000   \n",
       "\n",
       "                1807     1808     1809  ...      2091      2092      2093  \\\n",
       "country                                 ...                                 \n",
       "Afghanistan  3280000  3280000  3280000  ...  76600000  76400000  76300000   \n",
       "Albania       413000   414000   416000  ...   1330000   1300000   1270000   \n",
       "\n",
       "                 2094      2095      2096      2097      2098      2099  \\\n",
       "country                                                                   \n",
       "Afghanistan  76100000  76000000  75800000  75600000  75400000  75200000   \n",
       "Albania       1250000   1220000   1190000   1170000   1140000   1110000   \n",
       "\n",
       "                 2100  \n",
       "country                \n",
       "Afghanistan  74900000  \n",
       "Albania       1090000  \n",
       "\n",
       "[2 rows x 301 columns]"
      ]
     },
     "execution_count": 7,
     "metadata": {},
     "output_type": "execute_result"
    }
   ],
   "source": [
    "population.head(2)"
   ]
  },
  {
   "cell_type": "markdown",
   "metadata": {},
   "source": [
    "### Data Cleaning"
   ]
  },
  {
   "cell_type": "markdown",
   "metadata": {},
   "source": [
    "I only want to analyze values from 1900 to 2014, so I'll drop all the values before 1900 and after 2014. I'm not using data up to 2021 (the year at the time of writing this) because the data was collected all the dataframes at least until 2014, and in some of them it was forecasted after that. I only want to work with accurate data. "
   ]
  },
  {
   "cell_type": "code",
   "execution_count": 8,
   "metadata": {},
   "outputs": [],
   "source": [
    "# drop all the columns from 1800 to 1899.\n",
    "\n",
    "child_mortality.drop(child_mortality.loc[:, :'1899'].columns , axis=1, inplace = True)\n",
    "children_per_woman.drop(children_per_woman.loc[:, :'1899'].columns , axis=1, inplace = True)\n",
    "gdp_per_capita.drop(gdp_per_capita.loc[:, :'1899'].columns , axis=1, inplace = True)\n",
    "life_expectancy.drop(life_expectancy.loc[:, :'1899'].columns , axis=1, inplace = True)\n",
    "population.drop(population.loc[:, :'1899'].columns , axis=1, inplace = True)\n"
   ]
  },
  {
   "cell_type": "code",
   "execution_count": 9,
   "metadata": {},
   "outputs": [],
   "source": [
    "# drop all the columns after 2014.\n",
    "\n",
    "child_mortality.drop(child_mortality.loc[:, '2015':].columns , axis=1, inplace = True)\n",
    "children_per_woman.drop(children_per_woman.loc[:, '2015':].columns , axis=1, inplace = True)\n",
    "gdp_per_capita.drop(gdp_per_capita.loc[:, '2015':].columns , axis=1, inplace = True)\n",
    "life_expectancy.drop(life_expectancy.loc[:, '2015':].columns , axis=1, inplace = True)\n",
    "population.drop(population.loc[:, '2015':].columns , axis=1, inplace = True)"
   ]
  },
  {
   "cell_type": "markdown",
   "metadata": {},
   "source": [
    "Set the column values to ints instead of strings. This will make it easier to work with the graphs afterwards. "
   ]
  },
  {
   "cell_type": "code",
   "execution_count": 10,
   "metadata": {},
   "outputs": [],
   "source": [
    "child_mortality.columns = child_mortality.columns.astype(int) \n",
    "children_per_woman.columns = children_per_woman.columns.astype(int) \n",
    "gdp_per_capita.columns = gdp_per_capita.columns.astype(int) \n",
    "life_expectancy.columns = life_expectancy.columns.astype(int) \n",
    "population.columns = population.columns.astype(int) "
   ]
  },
  {
   "cell_type": "markdown",
   "metadata": {},
   "source": [
    "Check data for NaN values in each dataframe. If the NaN values are not abundant, replace them with the mean value of each column."
   ]
  },
  {
   "cell_type": "code",
   "execution_count": 11,
   "metadata": {},
   "outputs": [
    {
     "data": {
      "text/plain": [
       "False    184\n",
       "True      11\n",
       "dtype: int64"
      ]
     },
     "execution_count": 11,
     "metadata": {},
     "output_type": "execute_result"
    }
   ],
   "source": [
    "child_mortality.isnull().any(axis=1).value_counts()"
   ]
  },
  {
   "cell_type": "markdown",
   "metadata": {},
   "source": [
    "In child_mortality, from the 195 rows, 11 contain NaN values. I'll fill them with the mean of each column. "
   ]
  },
  {
   "cell_type": "code",
   "execution_count": 12,
   "metadata": {},
   "outputs": [],
   "source": [
    "child_mortality.fillna(child_mortality.mean(), inplace=True)"
   ]
  },
  {
   "cell_type": "code",
   "execution_count": 13,
   "metadata": {},
   "outputs": [
    {
     "data": {
      "text/plain": [
       "False    195\n",
       "dtype: int64"
      ]
     },
     "execution_count": 13,
     "metadata": {},
     "output_type": "execute_result"
    }
   ],
   "source": [
    "# check that there are no NaN values\n",
    "\n",
    "child_mortality.isnull().any(axis=1).value_counts()"
   ]
  },
  {
   "cell_type": "code",
   "execution_count": 14,
   "metadata": {},
   "outputs": [
    {
     "data": {
      "text/plain": [
       "False    184\n",
       "dtype: int64"
      ]
     },
     "execution_count": 14,
     "metadata": {},
     "output_type": "execute_result"
    }
   ],
   "source": [
    "children_per_woman.isnull().any(axis=1).value_counts()"
   ]
  },
  {
   "cell_type": "markdown",
   "metadata": {},
   "source": [
    "children_per_woman has no NaN values."
   ]
  },
  {
   "cell_type": "code",
   "execution_count": 15,
   "metadata": {},
   "outputs": [
    {
     "data": {
      "text/plain": [
       "False    193\n",
       "dtype: int64"
      ]
     },
     "execution_count": 15,
     "metadata": {},
     "output_type": "execute_result"
    }
   ],
   "source": [
    "gdp_per_capita.isnull().any(axis=1).value_counts()"
   ]
  },
  {
   "cell_type": "markdown",
   "metadata": {},
   "source": [
    "gdp_per_capita has no NaN values."
   ]
  },
  {
   "cell_type": "code",
   "execution_count": 16,
   "metadata": {},
   "outputs": [
    {
     "data": {
      "text/plain": [
       "False    184\n",
       "True       3\n",
       "dtype: int64"
      ]
     },
     "execution_count": 16,
     "metadata": {},
     "output_type": "execute_result"
    }
   ],
   "source": [
    "life_expectancy.isnull().any(axis=1).value_counts()"
   ]
  },
  {
   "cell_type": "markdown",
   "metadata": {},
   "source": [
    "In life_expectancy, from the 195 rows, 3 contain NaN values. I'll fill them with the mean of each column. "
   ]
  },
  {
   "cell_type": "code",
   "execution_count": 17,
   "metadata": {},
   "outputs": [],
   "source": [
    "life_expectancy.fillna(life_expectancy.mean(), inplace=True)"
   ]
  },
  {
   "cell_type": "code",
   "execution_count": 18,
   "metadata": {},
   "outputs": [
    {
     "data": {
      "text/plain": [
       "False    187\n",
       "dtype: int64"
      ]
     },
     "execution_count": 18,
     "metadata": {},
     "output_type": "execute_result"
    }
   ],
   "source": [
    "# check that there are no NaN values\n",
    "\n",
    "life_expectancy.isnull().any(axis=1).value_counts()"
   ]
  },
  {
   "cell_type": "code",
   "execution_count": 19,
   "metadata": {
    "scrolled": true
   },
   "outputs": [
    {
     "data": {
      "text/plain": [
       "False    195\n",
       "dtype: int64"
      ]
     },
     "execution_count": 19,
     "metadata": {},
     "output_type": "execute_result"
    }
   ],
   "source": [
    "population.isnull().any(axis=1).value_counts()"
   ]
  },
  {
   "cell_type": "markdown",
   "metadata": {},
   "source": [
    "population has no NaN values."
   ]
  },
  {
   "cell_type": "code",
   "execution_count": 20,
   "metadata": {},
   "outputs": [
    {
     "data": {
      "text/plain": [
       "0"
      ]
     },
     "execution_count": 20,
     "metadata": {},
     "output_type": "execute_result"
    }
   ],
   "source": [
    "# see if there are any duplicated rows\n",
    "\n",
    "sum(child_mortality.duplicated())"
   ]
  },
  {
   "cell_type": "code",
   "execution_count": 21,
   "metadata": {},
   "outputs": [
    {
     "data": {
      "text/plain": [
       "0"
      ]
     },
     "execution_count": 21,
     "metadata": {},
     "output_type": "execute_result"
    }
   ],
   "source": [
    "sum(children_per_woman.duplicated())"
   ]
  },
  {
   "cell_type": "code",
   "execution_count": 22,
   "metadata": {},
   "outputs": [
    {
     "data": {
      "text/plain": [
       "0"
      ]
     },
     "execution_count": 22,
     "metadata": {},
     "output_type": "execute_result"
    }
   ],
   "source": [
    "sum(gdp_per_capita.duplicated())"
   ]
  },
  {
   "cell_type": "code",
   "execution_count": 23,
   "metadata": {},
   "outputs": [
    {
     "data": {
      "text/plain": [
       "0"
      ]
     },
     "execution_count": 23,
     "metadata": {},
     "output_type": "execute_result"
    }
   ],
   "source": [
    "sum(life_expectancy.duplicated())"
   ]
  },
  {
   "cell_type": "code",
   "execution_count": 24,
   "metadata": {},
   "outputs": [
    {
     "data": {
      "text/plain": [
       "0"
      ]
     },
     "execution_count": 24,
     "metadata": {},
     "output_type": "execute_result"
    }
   ],
   "source": [
    "sum(population.duplicated())"
   ]
  },
  {
   "cell_type": "markdown",
   "metadata": {},
   "source": [
    "None of the dataframes has duplicated rows, so there is nothing to clean there. \n",
    "\n",
    "The data is now clean and ready to be analysed.  "
   ]
  },
  {
   "cell_type": "markdown",
   "metadata": {},
   "source": [
    "<a id='eda'></a>\n",
    "## Exploratory Data Analysis\n",
    "<a id='q1'></a>\n",
    "### 1) Is the world getting better off than a century ago? "
   ]
  },
  {
   "cell_type": "markdown",
   "metadata": {},
   "source": [
    "To try and answer the question, I'll first analize some indicators against time, and then I'll analyze two indicators together against time. \n",
    "\n",
    "I'll pose some sub-questions to have more clear conclusions."
   ]
  },
  {
   "cell_type": "markdown",
   "metadata": {},
   "source": [
    "<a id='q2'></a>\n",
    "#### a) What is happening with child mortality over time?"
   ]
  },
  {
   "cell_type": "markdown",
   "metadata": {},
   "source": [
    "I'll make a line plot of the average values of child mortality of each year in the whole world against the year."
   ]
  },
  {
   "cell_type": "code",
   "execution_count": 25,
   "metadata": {
    "scrolled": true
   },
   "outputs": [
    {
     "data": {
      "image/png": "[encoded data removed]",
      "text/plain": [
       "<Figure size 432x288 with 1 Axes>"
      ]
     },
     "metadata": {
      "needs_background": "light"
     },
     "output_type": "display_data"
    }
   ],
   "source": [
    "child_mortality.mean().plot(xticks = np.arange(1900, 2021, 15))\n",
    "plt.title('Year vs Average of child mortality')\n",
    "plt.xlabel('Year')\n",
    "plt.ylabel('Average of child mortality in a given year');"
   ]
  },
  {
   "cell_type": "markdown",
   "metadata": {},
   "source": [
    "We can see that there is a strong negative correlation between child mortality and time. This means that as time increases, child mortality decreases. Let's see if something else could be related."
   ]
  },
  {
   "cell_type": "markdown",
   "metadata": {},
   "source": [
    "<a id='q3'></a>\n",
    "#### b) Are women having more or less children with time?"
   ]
  },
  {
   "cell_type": "code",
   "execution_count": 26,
   "metadata": {
    "scrolled": true
   },
   "outputs": [
    {
     "data": {
      "image/png": "[encoded data removed]",
      "text/plain": [
       "<Figure size 432x288 with 1 Axes>"
      ]
     },
     "metadata": {
      "needs_background": "light"
     },
     "output_type": "display_data"
    }
   ],
   "source": [
    "children_per_woman.mean().plot(xticks = np.arange(1900, 2021, 15))\n",
    "plt.title('Year vs Average of children per woman')\n",
    "plt.xlabel('Year')\n",
    "plt.ylabel('Average of year per woman in a given year');"
   ]
  },
  {
   "cell_type": "markdown",
   "metadata": {},
   "source": [
    "We can see that each woman is having less children than before. Again, it's negatively correlated. Let's see a graph of the population against time."
   ]
  },
  {
   "cell_type": "markdown",
   "metadata": {},
   "source": [
    "<a id='q4'></a>\n",
    "#### c) What is happening with population over time?"
   ]
  },
  {
   "cell_type": "code",
   "execution_count": 27,
   "metadata": {},
   "outputs": [
    {
     "data": {
      "image/png": "[encoded data removed]",
      "text/plain": [
       "<Figure size 432x288 with 1 Axes>"
      ]
     },
     "metadata": {
      "needs_background": "light"
     },
     "output_type": "display_data"
    }
   ],
   "source": [
    "population.mean().plot(xticks = np.arange(1900, 2021, 15))\n",
    "plt.title('Year vs Average of population')\n",
    "plt.xlabel('Year')\n",
    "plt.ylabel('Average population in a given year');"
   ]
  },
  {
   "cell_type": "markdown",
   "metadata": {},
   "source": [
    "We can see that population is growing and there are less children under the age of 5 dying. Let's see if it has something to do with the GDP per capita. "
   ]
  },
  {
   "cell_type": "markdown",
   "metadata": {},
   "source": [
    "<a id='q5'></a>\n",
    "#### d) What is happening with GDP per capita over time?"
   ]
  },
  {
   "cell_type": "code",
   "execution_count": 28,
   "metadata": {
    "scrolled": false
   },
   "outputs": [
    {
     "data": {
      "image/png": "[encoded data removed]",
      "text/plain": [
       "<Figure size 432x288 with 1 Axes>"
      ]
     },
     "metadata": {
      "needs_background": "light"
     },
     "output_type": "display_data"
    }
   ],
   "source": [
    "gdp_per_capita.mean().plot(xticks = np.arange(1900, 2021, 15))\n",
    "plt.title('Year vs Average of GDP per capita')\n",
    "plt.xlabel('Year')\n",
    "plt.ylabel('Average of GDP per capita in a given year');"
   ]
  },
  {
   "cell_type": "markdown",
   "metadata": {},
   "source": [
    "GDP per capita has been growing over time, so there is correlation between how wealthy people is and how many children are dying. Also there is correlation between how wealthy people is, and women having less children."
   ]
  },
  {
   "cell_type": "markdown",
   "metadata": {},
   "source": [
    "<a id='q6'></a>\n",
    "#### e) What is happening with life expectancy over time?"
   ]
  },
  {
   "cell_type": "code",
   "execution_count": 29,
   "metadata": {
    "scrolled": true
   },
   "outputs": [
    {
     "data": {
      "image/png": "[encoded data removed]",
      "text/plain": [
       "<Figure size 432x288 with 1 Axes>"
      ]
     },
     "metadata": {
      "needs_background": "light"
     },
     "output_type": "display_data"
    }
   ],
   "source": [
    "life_expectancy.mean().plot(xticks = np.arange(1900, 2021, 15))\n",
    "plt.title('Year vs Average of life expectancy')\n",
    "plt.xlabel('Year', fontsize=14)\n",
    "plt.ylabel('Average of life expectancy in a given year', fontsize=14);"
   ]
  },
  {
   "cell_type": "markdown",
   "metadata": {},
   "source": [
    "In the year vs average of life expectancy we can see that it's overall growing, but there was a a very steep decay and then recovery at around 1917-1918. The graph makes sense with what we know of world history, because that was the ending of the WWI and the start of the Spanish Flu. There is also some decay at around WWII. "
   ]
  },
  {
   "cell_type": "markdown",
   "metadata": {},
   "source": [
    "We can make the following conclusions from the graphs that we saw:\n",
    "\n",
    "- Child mortality is strongly correlated with time. As time increases, child mortality decreases.\n",
    "- The average children than woman are having is correlated with time. As time increases, the average children than woman are having decreases. \n",
    "- Population is strongly positively correlated with time. As time increases, population increases as well.\n",
    "- GDP per capita is strongly positively correlated with time. As time increases, GDP per capita increases as well. This means that people is wealthier.\n",
    "- Life expectancy is strongly positively correlated with time. As time increases, life expectancy increases as well.\n",
    "\n",
    "We could say tentatively that, by looking at a few indicators, people seem to be getting better off."
   ]
  },
  {
   "cell_type": "markdown",
   "metadata": {},
   "source": [
    "Let's now compare several indicators on the same graph vs year. "
   ]
  },
  {
   "cell_type": "markdown",
   "metadata": {},
   "source": [
    "<a id='q7'></a>\n",
    "#### f) Does higher GDP per capita lead to lower child mortality?"
   ]
  },
  {
   "cell_type": "code",
   "execution_count": 30,
   "metadata": {},
   "outputs": [
    {
     "data": {
      "image/png": "[encoded data removed]",
      "text/plain": [
       "<Figure size 432x288 with 2 Axes>"
      ]
     },
     "metadata": {
      "needs_background": "light"
     },
     "output_type": "display_data"
    }
   ],
   "source": [
    "fig, ax = plt.subplots()\n",
    "ax.plot(child_mortality.columns, child_mortality.mean(), color='red')\n",
    "ax.set_xlabel('Year', fontsize=14)\n",
    "ax.set_ylabel('Child Mortality', color='red', fontsize=14)\n",
    "\n",
    "ax2 = ax.twinx()\n",
    "ax2.plot(gdp_per_capita.columns, gdp_per_capita.mean(), color='blue')\n",
    "ax2.set_ylabel('GDP per Capita', color='blue', fontsize=14)\n",
    "\n",
    "ax.set_xticks(np.arange(1900, 2021, 15));"
   ]
  },
  {
   "cell_type": "markdown",
   "metadata": {},
   "source": [
    "There seems to be a very strong negative correlation between child mortality and gdp per capita, but a correlation is not enough to say that higher GDP per capita leads to lower child mortality."
   ]
  },
  {
   "cell_type": "markdown",
   "metadata": {},
   "source": [
    "<a id='q8'></a>\n",
    "#### g) Does higher GDP per capita lead to higher life expectancy?"
   ]
  },
  {
   "cell_type": "code",
   "execution_count": 31,
   "metadata": {
    "scrolled": true
   },
   "outputs": [
    {
     "data": {
      "image/png": "[encoded data removed]",
      "text/plain": [
       "<Figure size 432x288 with 2 Axes>"
      ]
     },
     "metadata": {
      "needs_background": "light"
     },
     "output_type": "display_data"
    }
   ],
   "source": [
    "fig, ax = plt.subplots()\n",
    "ax.plot(life_expectancy.columns, life_expectancy.mean(), color='red')\n",
    "ax.set_xlabel('Year', fontsize=14)\n",
    "ax.set_ylabel('Life Expectancy', color='red', fontsize=14)\n",
    "\n",
    "ax2 = ax.twinx()\n",
    "ax2.plot(gdp_per_capita.columns, gdp_per_capita.mean(), color='blue')\n",
    "ax2.set_ylabel('GDP per Capita', color='blue', fontsize=14)\n",
    "\n",
    "ax.set_xticks(np.arange(1900, 2021, 15));"
   ]
  },
  {
   "cell_type": "markdown",
   "metadata": {},
   "source": [
    "There also seems to be a strong positive correlation between life expectancy and gdp per capita, but again, a correlation is not enough to say that higher GDP per capita leads to higher life expectancy."
   ]
  },
  {
   "cell_type": "markdown",
   "metadata": {},
   "source": [
    "<a id='q9'></a>\n",
    "#### h) Does higher GDP per capita lead to less children per woman?"
   ]
  },
  {
   "cell_type": "code",
   "execution_count": 32,
   "metadata": {},
   "outputs": [
    {
     "data": {
      "image/png": "[encoded data removed]",
      "text/plain": [
       "<Figure size 432x288 with 2 Axes>"
      ]
     },
     "metadata": {
      "needs_background": "light"
     },
     "output_type": "display_data"
    }
   ],
   "source": [
    "fig, ax = plt.subplots()\n",
    "ax.plot(children_per_woman.columns, children_per_woman.mean(), color='red')\n",
    "ax.set_xlabel('Year', fontsize=14)\n",
    "ax.set_ylabel('Children per Woman', color='red', fontsize=14)\n",
    "\n",
    "ax2 = ax.twinx()\n",
    "ax2.plot(gdp_per_capita.columns, gdp_per_capita.mean(), color='blue')\n",
    "ax2.set_ylabel('GDP per Capita', color='blue', fontsize=14)\n",
    "\n",
    "ax.set_xticks(np.arange(1900, 2021, 15));"
   ]
  },
  {
   "cell_type": "markdown",
   "metadata": {},
   "source": [
    "There is a very strong negative correlation between children per woman and gdp per capita, but a correlation is still not enough to say that higher GDP per capita leads to women having less children."
   ]
  },
  {
   "cell_type": "markdown",
   "metadata": {},
   "source": [
    "<a id='q10'></a>\n",
    "#### i) Does lower children per woman lead to lower child mortality?"
   ]
  },
  {
   "cell_type": "code",
   "execution_count": 33,
   "metadata": {},
   "outputs": [
    {
     "data": {
      "image/png": "[encoded data removed]",
      "text/plain": [
       "<Figure size 432x288 with 2 Axes>"
      ]
     },
     "metadata": {
      "needs_background": "light"
     },
     "output_type": "display_data"
    }
   ],
   "source": [
    "fig, ax = plt.subplots()\n",
    "ax.plot(children_per_woman.columns, children_per_woman.mean(), color='red')\n",
    "ax.set_xlabel('Year', fontsize=14)\n",
    "ax.set_ylabel('Children per Woman', color='red', fontsize=14)\n",
    "\n",
    "ax2 = ax.twinx()\n",
    "ax2.plot(child_mortality.columns, child_mortality.mean(), color='blue')\n",
    "ax2.set_ylabel('Child Mortality', color='blue', fontsize=14)\n",
    "\n",
    "ax.set_xticks(np.arange(1900, 2021, 15));"
   ]
  },
  {
   "cell_type": "markdown",
   "metadata": {},
   "source": [
    "There is also a very strong positive correlation between children per woman and child mortality, both decreasing quite steadily over time. It doesn't mean, once again, that the fact that women are having less children leads to lower child mortality."
   ]
  },
  {
   "cell_type": "markdown",
   "metadata": {},
   "source": [
    "All of the previous analysis were done with each year's average, so we can't really infer things for any particular country, but we can make world inferences. We can infer the following things: \n",
    "\n",
    "- Child mortality is strongly correlated with GDP per capita. As GDP per capita increases, child mortality decreases.\n",
    "- Life expectancy is strongly correlated with GDP per capita. As GDP per capita increases, life expectancy increases as well.\n",
    "- Children per woman is strongly correlated with GDP per capita. As GDP per capita increases, children per woman decreases.\n",
    "- Children per woman is strongly correlated with child mortality. As children per woman, child mortality decreases as well.\n",
    "\n",
    "These are correlations only, for which we cannot infer causation.\n",
    "\n",
    "Let's try now to see what's happening in particular countries. "
   ]
  },
  {
   "cell_type": "markdown",
   "metadata": {},
   "source": [
    "First I'll transpose the data so I can make different graphs and comparisons with it. Now I want my indexes to be years, and my columns to be countries."
   ]
  },
  {
   "cell_type": "code",
   "execution_count": 34,
   "metadata": {},
   "outputs": [],
   "source": [
    "# _t stands for transposed\n",
    "\n",
    "child_mortality_t = child_mortality.T\n",
    "children_per_woman_t = children_per_woman.T\n",
    "gdp_per_capita_t = gdp_per_capita.T\n",
    "life_expectancy_t = life_expectancy.T\n",
    "population_t = population.T"
   ]
  },
  {
   "cell_type": "code",
   "execution_count": 35,
   "metadata": {
    "scrolled": true
   },
   "outputs": [
    {
     "data": {
      "text/html": [
       "<div>\n",
       "<style scoped>\n",
       "    .dataframe tbody tr th:only-of-type {\n",
       "        vertical-align: middle;\n",
       "    }\n",
       "\n",
       "    .dataframe tbody tr th {\n",
       "        vertical-align: top;\n",
       "    }\n",
       "\n",
       "    .dataframe thead th {\n",
       "        text-align: right;\n",
       "    }\n",
       "</style>\n",
       "<table border=\"1\" class=\"dataframe\">\n",
       "  <thead>\n",
       "    <tr style=\"text-align: right;\">\n",
       "      <th>country</th>\n",
       "      <th>Afghanistan</th>\n",
       "      <th>Albania</th>\n",
       "      <th>Algeria</th>\n",
       "      <th>Andorra</th>\n",
       "      <th>Angola</th>\n",
       "      <th>Antigua and Barbuda</th>\n",
       "      <th>Argentina</th>\n",
       "      <th>Armenia</th>\n",
       "      <th>Australia</th>\n",
       "      <th>Austria</th>\n",
       "      <th>...</th>\n",
       "      <th>United Kingdom</th>\n",
       "      <th>United States</th>\n",
       "      <th>Uruguay</th>\n",
       "      <th>Uzbekistan</th>\n",
       "      <th>Vanuatu</th>\n",
       "      <th>Venezuela</th>\n",
       "      <th>Vietnam</th>\n",
       "      <th>Yemen</th>\n",
       "      <th>Zambia</th>\n",
       "      <th>Zimbabwe</th>\n",
       "    </tr>\n",
       "  </thead>\n",
       "  <tbody>\n",
       "    <tr>\n",
       "      <th>1900</th>\n",
       "      <td>482.0</td>\n",
       "      <td>374.0</td>\n",
       "      <td>459.0</td>\n",
       "      <td>383.923913</td>\n",
       "      <td>485.0</td>\n",
       "      <td>210.0</td>\n",
       "      <td>358.0</td>\n",
       "      <td>326.0</td>\n",
       "      <td>149.0</td>\n",
       "      <td>375.0</td>\n",
       "      <td>...</td>\n",
       "      <td>225.0</td>\n",
       "      <td>232.0</td>\n",
       "      <td>405.0</td>\n",
       "      <td>379.0</td>\n",
       "      <td>243.0</td>\n",
       "      <td>414.0</td>\n",
       "      <td>417.0</td>\n",
       "      <td>539.0</td>\n",
       "      <td>409.0</td>\n",
       "      <td>395.0</td>\n",
       "    </tr>\n",
       "    <tr>\n",
       "      <th>1901</th>\n",
       "      <td>481.0</td>\n",
       "      <td>374.0</td>\n",
       "      <td>459.0</td>\n",
       "      <td>381.448370</td>\n",
       "      <td>484.0</td>\n",
       "      <td>209.0</td>\n",
       "      <td>351.0</td>\n",
       "      <td>322.0</td>\n",
       "      <td>157.0</td>\n",
       "      <td>340.0</td>\n",
       "      <td>...</td>\n",
       "      <td>216.0</td>\n",
       "      <td>228.0</td>\n",
       "      <td>405.0</td>\n",
       "      <td>376.0</td>\n",
       "      <td>242.0</td>\n",
       "      <td>414.0</td>\n",
       "      <td>416.0</td>\n",
       "      <td>539.0</td>\n",
       "      <td>409.0</td>\n",
       "      <td>395.0</td>\n",
       "    </tr>\n",
       "  </tbody>\n",
       "</table>\n",
       "<p>2 rows × 195 columns</p>\n",
       "</div>"
      ],
      "text/plain": [
       "country  Afghanistan  Albania  Algeria     Andorra  Angola  \\\n",
       "1900           482.0    374.0    459.0  383.923913   485.0   \n",
       "1901           481.0    374.0    459.0  381.448370   484.0   \n",
       "\n",
       "country  Antigua and Barbuda  Argentina  Armenia  Australia  Austria  ...  \\\n",
       "1900                   210.0      358.0    326.0      149.0    375.0  ...   \n",
       "1901                   209.0      351.0    322.0      157.0    340.0  ...   \n",
       "\n",
       "country  United Kingdom  United States  Uruguay  Uzbekistan  Vanuatu  \\\n",
       "1900              225.0          232.0    405.0       379.0    243.0   \n",
       "1901              216.0          228.0    405.0       376.0    242.0   \n",
       "\n",
       "country  Venezuela  Vietnam  Yemen  Zambia  Zimbabwe  \n",
       "1900         414.0    417.0  539.0   409.0     395.0  \n",
       "1901         414.0    416.0  539.0   409.0     395.0  \n",
       "\n",
       "[2 rows x 195 columns]"
      ]
     },
     "execution_count": 35,
     "metadata": {},
     "output_type": "execute_result"
    }
   ],
   "source": [
    "# this is how the transposed data looks like\n",
    "\n",
    "child_mortality_t.head(2)"
   ]
  },
  {
   "cell_type": "markdown",
   "metadata": {},
   "source": [
    "Now  I'll create a new column with the decade of any particular year. The decade of 1992 and 1995, for instance, is 1990."
   ]
  },
  {
   "cell_type": "code",
   "execution_count": 36,
   "metadata": {},
   "outputs": [],
   "source": [
    "child_mortality_t['decades'] = [(x//10)*10 for x in child_mortality_t.index]\n",
    "children_per_woman_t['decades'] = [(x//10)*10 for x in children_per_woman_t.index]\n",
    "gdp_per_capita_t['decades'] = [(x//10)*10 for x in gdp_per_capita_t.index]\n",
    "life_expectancy_t['decades'] = [(x//10)*10 for x in life_expectancy_t.index]\n",
    "population_t['decades'] = [(x//10)*10 for x in population_t.index]"
   ]
  },
  {
   "cell_type": "markdown",
   "metadata": {},
   "source": [
    "This is how my data would look like if I were to group it by decades and calculate the mean of each country in each decade. I will use this means for some graphs later on."
   ]
  },
  {
   "cell_type": "code",
   "execution_count": 37,
   "metadata": {},
   "outputs": [
    {
     "data": {
      "text/html": [
       "<div>\n",
       "<style scoped>\n",
       "    .dataframe tbody tr th:only-of-type {\n",
       "        vertical-align: middle;\n",
       "    }\n",
       "\n",
       "    .dataframe tbody tr th {\n",
       "        vertical-align: top;\n",
       "    }\n",
       "\n",
       "    .dataframe thead th {\n",
       "        text-align: right;\n",
       "    }\n",
       "</style>\n",
       "<table border=\"1\" class=\"dataframe\">\n",
       "  <thead>\n",
       "    <tr style=\"text-align: right;\">\n",
       "      <th>country</th>\n",
       "      <th>Afghanistan</th>\n",
       "      <th>Albania</th>\n",
       "      <th>Algeria</th>\n",
       "      <th>Andorra</th>\n",
       "      <th>Angola</th>\n",
       "      <th>Antigua and Barbuda</th>\n",
       "      <th>Argentina</th>\n",
       "      <th>Armenia</th>\n",
       "      <th>Australia</th>\n",
       "      <th>Austria</th>\n",
       "      <th>...</th>\n",
       "      <th>United Kingdom</th>\n",
       "      <th>United States</th>\n",
       "      <th>Uruguay</th>\n",
       "      <th>Uzbekistan</th>\n",
       "      <th>Vanuatu</th>\n",
       "      <th>Venezuela</th>\n",
       "      <th>Vietnam</th>\n",
       "      <th>Yemen</th>\n",
       "      <th>Zambia</th>\n",
       "      <th>Zimbabwe</th>\n",
       "    </tr>\n",
       "    <tr>\n",
       "      <th>decades</th>\n",
       "      <th></th>\n",
       "      <th></th>\n",
       "      <th></th>\n",
       "      <th></th>\n",
       "      <th></th>\n",
       "      <th></th>\n",
       "      <th></th>\n",
       "      <th></th>\n",
       "      <th></th>\n",
       "      <th></th>\n",
       "      <th></th>\n",
       "      <th></th>\n",
       "      <th></th>\n",
       "      <th></th>\n",
       "      <th></th>\n",
       "      <th></th>\n",
       "      <th></th>\n",
       "      <th></th>\n",
       "      <th></th>\n",
       "      <th></th>\n",
       "      <th></th>\n",
       "    </tr>\n",
       "  </thead>\n",
       "  <tbody>\n",
       "    <tr>\n",
       "      <th>1900</th>\n",
       "      <td>479.90</td>\n",
       "      <td>372.20</td>\n",
       "      <td>456.60</td>\n",
       "      <td>375.038750</td>\n",
       "      <td>481.90</td>\n",
       "      <td>202.800</td>\n",
       "      <td>307.70</td>\n",
       "      <td>308.80</td>\n",
       "      <td>131.600</td>\n",
       "      <td>346.600</td>\n",
       "      <td>...</td>\n",
       "      <td>193.100</td>\n",
       "      <td>216.700</td>\n",
       "      <td>402.800</td>\n",
       "      <td>364.80</td>\n",
       "      <td>237.30</td>\n",
       "      <td>411.60</td>\n",
       "      <td>414.20</td>\n",
       "      <td>536.10</td>\n",
       "      <td>406.60</td>\n",
       "      <td>392.80</td>\n",
       "    </tr>\n",
       "    <tr>\n",
       "      <th>1910</th>\n",
       "      <td>471.40</td>\n",
       "      <td>364.70</td>\n",
       "      <td>447.30</td>\n",
       "      <td>355.052500</td>\n",
       "      <td>472.00</td>\n",
       "      <td>187.000</td>\n",
       "      <td>214.10</td>\n",
       "      <td>274.00</td>\n",
       "      <td>93.750</td>\n",
       "      <td>306.100</td>\n",
       "      <td>...</td>\n",
       "      <td>154.700</td>\n",
       "      <td>187.400</td>\n",
       "      <td>296.800</td>\n",
       "      <td>334.10</td>\n",
       "      <td>224.30</td>\n",
       "      <td>403.50</td>\n",
       "      <td>405.50</td>\n",
       "      <td>525.30</td>\n",
       "      <td>398.50</td>\n",
       "      <td>384.70</td>\n",
       "    </tr>\n",
       "    <tr>\n",
       "      <th>1920</th>\n",
       "      <td>461.40</td>\n",
       "      <td>355.90</td>\n",
       "      <td>429.60</td>\n",
       "      <td>329.571087</td>\n",
       "      <td>460.60</td>\n",
       "      <td>172.400</td>\n",
       "      <td>180.80</td>\n",
       "      <td>243.00</td>\n",
       "      <td>76.280</td>\n",
       "      <td>212.200</td>\n",
       "      <td>...</td>\n",
       "      <td>111.610</td>\n",
       "      <td>131.650</td>\n",
       "      <td>155.800</td>\n",
       "      <td>306.10</td>\n",
       "      <td>212.00</td>\n",
       "      <td>321.70</td>\n",
       "      <td>395.50</td>\n",
       "      <td>512.50</td>\n",
       "      <td>388.50</td>\n",
       "      <td>375.50</td>\n",
       "    </tr>\n",
       "    <tr>\n",
       "      <th>1930</th>\n",
       "      <td>447.00</td>\n",
       "      <td>331.70</td>\n",
       "      <td>380.40</td>\n",
       "      <td>296.073207</td>\n",
       "      <td>431.00</td>\n",
       "      <td>156.000</td>\n",
       "      <td>143.80</td>\n",
       "      <td>202.60</td>\n",
       "      <td>54.410</td>\n",
       "      <td>133.570</td>\n",
       "      <td>...</td>\n",
       "      <td>83.550</td>\n",
       "      <td>76.380</td>\n",
       "      <td>141.100</td>\n",
       "      <td>267.90</td>\n",
       "      <td>201.50</td>\n",
       "      <td>235.10</td>\n",
       "      <td>354.70</td>\n",
       "      <td>489.60</td>\n",
       "      <td>372.40</td>\n",
       "      <td>356.50</td>\n",
       "    </tr>\n",
       "    <tr>\n",
       "      <th>1940</th>\n",
       "      <td>427.00</td>\n",
       "      <td>297.30</td>\n",
       "      <td>315.00</td>\n",
       "      <td>250.574076</td>\n",
       "      <td>370.00</td>\n",
       "      <td>137.700</td>\n",
       "      <td>112.42</td>\n",
       "      <td>154.60</td>\n",
       "      <td>42.350</td>\n",
       "      <td>107.090</td>\n",
       "      <td>...</td>\n",
       "      <td>59.120</td>\n",
       "      <td>49.780</td>\n",
       "      <td>94.220</td>\n",
       "      <td>217.50</td>\n",
       "      <td>191.50</td>\n",
       "      <td>163.00</td>\n",
       "      <td>217.20</td>\n",
       "      <td>455.10</td>\n",
       "      <td>324.80</td>\n",
       "      <td>267.40</td>\n",
       "    </tr>\n",
       "    <tr>\n",
       "      <th>1950</th>\n",
       "      <td>391.30</td>\n",
       "      <td>235.20</td>\n",
       "      <td>246.80</td>\n",
       "      <td>56.930000</td>\n",
       "      <td>322.60</td>\n",
       "      <td>109.410</td>\n",
       "      <td>85.63</td>\n",
       "      <td>124.70</td>\n",
       "      <td>28.440</td>\n",
       "      <td>54.690</td>\n",
       "      <td>...</td>\n",
       "      <td>30.880</td>\n",
       "      <td>33.700</td>\n",
       "      <td>61.400</td>\n",
       "      <td>183.30</td>\n",
       "      <td>172.40</td>\n",
       "      <td>98.78</td>\n",
       "      <td>128.20</td>\n",
       "      <td>429.40</td>\n",
       "      <td>229.10</td>\n",
       "      <td>172.80</td>\n",
       "    </tr>\n",
       "    <tr>\n",
       "      <th>1960</th>\n",
       "      <td>332.30</td>\n",
       "      <td>157.60</td>\n",
       "      <td>244.90</td>\n",
       "      <td>29.790000</td>\n",
       "      <td>292.30</td>\n",
       "      <td>67.550</td>\n",
       "      <td>63.72</td>\n",
       "      <td>104.49</td>\n",
       "      <td>22.890</td>\n",
       "      <td>34.480</td>\n",
       "      <td>...</td>\n",
       "      <td>23.900</td>\n",
       "      <td>27.270</td>\n",
       "      <td>58.730</td>\n",
       "      <td>157.30</td>\n",
       "      <td>134.00</td>\n",
       "      <td>70.81</td>\n",
       "      <td>88.29</td>\n",
       "      <td>385.20</td>\n",
       "      <td>193.00</td>\n",
       "      <td>132.50</td>\n",
       "    </tr>\n",
       "    <tr>\n",
       "      <th>1970</th>\n",
       "      <td>277.20</td>\n",
       "      <td>106.54</td>\n",
       "      <td>205.60</td>\n",
       "      <td>21.010000</td>\n",
       "      <td>254.80</td>\n",
       "      <td>50.560</td>\n",
       "      <td>62.29</td>\n",
       "      <td>86.74</td>\n",
       "      <td>17.720</td>\n",
       "      <td>23.640</td>\n",
       "      <td>...</td>\n",
       "      <td>18.190</td>\n",
       "      <td>19.320</td>\n",
       "      <td>52.360</td>\n",
       "      <td>133.20</td>\n",
       "      <td>90.43</td>\n",
       "      <td>54.18</td>\n",
       "      <td>76.41</td>\n",
       "      <td>275.10</td>\n",
       "      <td>162.70</td>\n",
       "      <td>112.70</td>\n",
       "    </tr>\n",
       "    <tr>\n",
       "      <th>1980</th>\n",
       "      <td>214.70</td>\n",
       "      <td>58.73</td>\n",
       "      <td>89.35</td>\n",
       "      <td>14.350000</td>\n",
       "      <td>228.50</td>\n",
       "      <td>37.970</td>\n",
       "      <td>33.19</td>\n",
       "      <td>64.18</td>\n",
       "      <td>11.411</td>\n",
       "      <td>13.008</td>\n",
       "      <td>...</td>\n",
       "      <td>11.768</td>\n",
       "      <td>13.050</td>\n",
       "      <td>30.000</td>\n",
       "      <td>90.91</td>\n",
       "      <td>51.18</td>\n",
       "      <td>36.92</td>\n",
       "      <td>61.53</td>\n",
       "      <td>162.60</td>\n",
       "      <td>168.20</td>\n",
       "      <td>88.01</td>\n",
       "    </tr>\n",
       "    <tr>\n",
       "      <th>1990</th>\n",
       "      <td>154.60</td>\n",
       "      <td>33.88</td>\n",
       "      <td>44.43</td>\n",
       "      <td>8.507000</td>\n",
       "      <td>220.80</td>\n",
       "      <td>21.820</td>\n",
       "      <td>24.64</td>\n",
       "      <td>40.29</td>\n",
       "      <td>7.413</td>\n",
       "      <td>7.300</td>\n",
       "      <td>...</td>\n",
       "      <td>7.585</td>\n",
       "      <td>9.740</td>\n",
       "      <td>20.440</td>\n",
       "      <td>70.14</td>\n",
       "      <td>31.88</td>\n",
       "      <td>26.70</td>\n",
       "      <td>40.73</td>\n",
       "      <td>112.73</td>\n",
       "      <td>180.60</td>\n",
       "      <td>96.48</td>\n",
       "    </tr>\n",
       "    <tr>\n",
       "      <th>2000</th>\n",
       "      <td>110.59</td>\n",
       "      <td>19.94</td>\n",
       "      <td>34.18</td>\n",
       "      <td>5.387000</td>\n",
       "      <td>169.90</td>\n",
       "      <td>12.880</td>\n",
       "      <td>17.01</td>\n",
       "      <td>24.78</td>\n",
       "      <td>5.691</td>\n",
       "      <td>4.976</td>\n",
       "      <td>...</td>\n",
       "      <td>6.042</td>\n",
       "      <td>7.985</td>\n",
       "      <td>14.410</td>\n",
       "      <td>50.75</td>\n",
       "      <td>28.66</td>\n",
       "      <td>18.96</td>\n",
       "      <td>25.92</td>\n",
       "      <td>75.31</td>\n",
       "      <td>118.79</td>\n",
       "      <td>100.77</td>\n",
       "    </tr>\n",
       "    <tr>\n",
       "      <th>2010</th>\n",
       "      <td>80.62</td>\n",
       "      <td>11.56</td>\n",
       "      <td>26.24</td>\n",
       "      <td>3.798000</td>\n",
       "      <td>105.86</td>\n",
       "      <td>8.566</td>\n",
       "      <td>13.28</td>\n",
       "      <td>16.76</td>\n",
       "      <td>4.348</td>\n",
       "      <td>4.058</td>\n",
       "      <td>...</td>\n",
       "      <td>4.814</td>\n",
       "      <td>7.092</td>\n",
       "      <td>9.958</td>\n",
       "      <td>32.00</td>\n",
       "      <td>29.46</td>\n",
       "      <td>17.18</td>\n",
       "      <td>22.58</td>\n",
       "      <td>55.22</td>\n",
       "      <td>73.88</td>\n",
       "      <td>70.98</td>\n",
       "    </tr>\n",
       "  </tbody>\n",
       "</table>\n",
       "<p>12 rows × 195 columns</p>\n",
       "</div>"
      ],
      "text/plain": [
       "country  Afghanistan  Albania  Algeria     Andorra  Angola  \\\n",
       "decades                                                      \n",
       "1900          479.90   372.20   456.60  375.038750  481.90   \n",
       "1910          471.40   364.70   447.30  355.052500  472.00   \n",
       "1920          461.40   355.90   429.60  329.571087  460.60   \n",
       "1930          447.00   331.70   380.40  296.073207  431.00   \n",
       "1940          427.00   297.30   315.00  250.574076  370.00   \n",
       "1950          391.30   235.20   246.80   56.930000  322.60   \n",
       "1960          332.30   157.60   244.90   29.790000  292.30   \n",
       "1970          277.20   106.54   205.60   21.010000  254.80   \n",
       "1980          214.70    58.73    89.35   14.350000  228.50   \n",
       "1990          154.60    33.88    44.43    8.507000  220.80   \n",
       "2000          110.59    19.94    34.18    5.387000  169.90   \n",
       "2010           80.62    11.56    26.24    3.798000  105.86   \n",
       "\n",
       "country  Antigua and Barbuda  Argentina  Armenia  Australia  Austria  ...  \\\n",
       "decades                                                               ...   \n",
       "1900                 202.800     307.70   308.80    131.600  346.600  ...   \n",
       "1910                 187.000     214.10   274.00     93.750  306.100  ...   \n",
       "1920                 172.400     180.80   243.00     76.280  212.200  ...   \n",
       "1930                 156.000     143.80   202.60     54.410  133.570  ...   \n",
       "1940                 137.700     112.42   154.60     42.350  107.090  ...   \n",
       "1950                 109.410      85.63   124.70     28.440   54.690  ...   \n",
       "1960                  67.550      63.72   104.49     22.890   34.480  ...   \n",
       "1970                  50.560      62.29    86.74     17.720   23.640  ...   \n",
       "1980                  37.970      33.19    64.18     11.411   13.008  ...   \n",
       "1990                  21.820      24.64    40.29      7.413    7.300  ...   \n",
       "2000                  12.880      17.01    24.78      5.691    4.976  ...   \n",
       "2010                   8.566      13.28    16.76      4.348    4.058  ...   \n",
       "\n",
       "country  United Kingdom  United States  Uruguay  Uzbekistan  Vanuatu  \\\n",
       "decades                                                                \n",
       "1900            193.100        216.700  402.800      364.80   237.30   \n",
       "1910            154.700        187.400  296.800      334.10   224.30   \n",
       "1920            111.610        131.650  155.800      306.10   212.00   \n",
       "1930             83.550         76.380  141.100      267.90   201.50   \n",
       "1940             59.120         49.780   94.220      217.50   191.50   \n",
       "1950             30.880         33.700   61.400      183.30   172.40   \n",
       "1960             23.900         27.270   58.730      157.30   134.00   \n",
       "1970             18.190         19.320   52.360      133.20    90.43   \n",
       "1980             11.768         13.050   30.000       90.91    51.18   \n",
       "1990              7.585          9.740   20.440       70.14    31.88   \n",
       "2000              6.042          7.985   14.410       50.75    28.66   \n",
       "2010              4.814          7.092    9.958       32.00    29.46   \n",
       "\n",
       "country  Venezuela  Vietnam   Yemen  Zambia  Zimbabwe  \n",
       "decades                                                \n",
       "1900        411.60   414.20  536.10  406.60    392.80  \n",
       "1910        403.50   405.50  525.30  398.50    384.70  \n",
       "1920        321.70   395.50  512.50  388.50    375.50  \n",
       "1930        235.10   354.70  489.60  372.40    356.50  \n",
       "1940        163.00   217.20  455.10  324.80    267.40  \n",
       "1950         98.78   128.20  429.40  229.10    172.80  \n",
       "1960         70.81    88.29  385.20  193.00    132.50  \n",
       "1970         54.18    76.41  275.10  162.70    112.70  \n",
       "1980         36.92    61.53  162.60  168.20     88.01  \n",
       "1990         26.70    40.73  112.73  180.60     96.48  \n",
       "2000         18.96    25.92   75.31  118.79    100.77  \n",
       "2010         17.18    22.58   55.22   73.88     70.98  \n",
       "\n",
       "[12 rows x 195 columns]"
      ]
     },
     "execution_count": 37,
     "metadata": {},
     "output_type": "execute_result"
    }
   ],
   "source": [
    "child_mortality_t.groupby('decades').mean()"
   ]
  },
  {
   "cell_type": "markdown",
   "metadata": {},
   "source": [
    "<a id='q11'></a>\n",
    "### 2) Does the wealthiest country have less children dying than the poorest country? What about the country that's in the middle in wealth?"
   ]
  },
  {
   "cell_type": "markdown",
   "metadata": {
    "collapsed": true
   },
   "source": [
    "To find that out, first I'll find which country had the highest GDP per capita (in 2014), which country had the lowest and which country was in the middle."
   ]
  },
  {
   "cell_type": "code",
   "execution_count": 38,
   "metadata": {},
   "outputs": [
    {
     "data": {
      "text/plain": [
       "count       193.000000\n",
       "mean      17427.777202\n",
       "std       18949.791996\n",
       "min         621.000000\n",
       "25%        3560.000000\n",
       "50%       10900.000000\n",
       "75%       24400.000000\n",
       "max      117000.000000\n",
       "Name: 2014, dtype: float64"
      ]
     },
     "execution_count": 38,
     "metadata": {},
     "output_type": "execute_result"
    }
   ],
   "source": [
    "gdp_per_capita[2014].describe()"
   ]
  },
  {
   "cell_type": "markdown",
   "metadata": {},
   "source": [
    "To understand this values visually, I'll make a boxplot of the GDP per capita."
   ]
  },
  {
   "cell_type": "code",
   "execution_count": 50,
   "metadata": {},
   "outputs": [
    {
     "data": {
      "image/png": "[encoded data removed]",
      "text/plain": [
       "<Figure size 432x288 with 1 Axes>"
      ]
     },
     "metadata": {
      "needs_background": "light"
     },
     "output_type": "display_data"
    }
   ],
   "source": [
    "fig, ax = plt.subplots()\n",
    "ax.set_title('GDP per capita 2014')\n",
    "ax.boxplot(gdp_per_capita[2014]);"
   ]
  },
  {
   "cell_type": "markdown",
   "metadata": {},
   "source": [
    "Like we can see, we'll analize the highest outlier, the lowest value (that is not an outlier) and the middle value (that can me recognised by the orange line)."
   ]
  },
  {
   "cell_type": "markdown",
   "metadata": {},
   "source": [
    "That gives us all the values that we need. Min is the lowest value, max is the highest one and 50% is the middle value. Let's get this values separately."
   ]
  },
  {
   "cell_type": "code",
   "execution_count": 39,
   "metadata": {},
   "outputs": [
    {
     "data": {
      "text/plain": [
       "621"
      ]
     },
     "execution_count": 39,
     "metadata": {},
     "output_type": "execute_result"
    }
   ],
   "source": [
    "# minimum value\n",
    "\n",
    "gdp_per_capita[2014].min()"
   ]
  },
  {
   "cell_type": "code",
   "execution_count": 40,
   "metadata": {},
   "outputs": [
    {
     "data": {
      "text/plain": [
       "117000"
      ]
     },
     "execution_count": 40,
     "metadata": {},
     "output_type": "execute_result"
    }
   ],
   "source": [
    "# maximum value\n",
    "\n",
    "gdp_per_capita[2014].max()"
   ]
  },
  {
   "cell_type": "code",
   "execution_count": 41,
   "metadata": {},
   "outputs": [
    {
     "data": {
      "text/plain": [
       "10900.0"
      ]
     },
     "execution_count": 41,
     "metadata": {},
     "output_type": "execute_result"
    }
   ],
   "source": [
    "# middle value\n",
    "\n",
    "gdp_per_capita[2014].median()"
   ]
  },
  {
   "cell_type": "code",
   "execution_count": 42,
   "metadata": {
    "scrolled": true
   },
   "outputs": [
    {
     "data": {
      "text/html": [
       "<div>\n",
       "<style scoped>\n",
       "    .dataframe tbody tr th:only-of-type {\n",
       "        vertical-align: middle;\n",
       "    }\n",
       "\n",
       "    .dataframe tbody tr th {\n",
       "        vertical-align: top;\n",
       "    }\n",
       "\n",
       "    .dataframe thead th {\n",
       "        text-align: right;\n",
       "    }\n",
       "</style>\n",
       "<table border=\"1\" class=\"dataframe\">\n",
       "  <thead>\n",
       "    <tr style=\"text-align: right;\">\n",
       "      <th></th>\n",
       "      <th>1900</th>\n",
       "      <th>1901</th>\n",
       "      <th>1902</th>\n",
       "      <th>1903</th>\n",
       "      <th>1904</th>\n",
       "      <th>1905</th>\n",
       "      <th>1906</th>\n",
       "      <th>1907</th>\n",
       "      <th>1908</th>\n",
       "      <th>1909</th>\n",
       "      <th>...</th>\n",
       "      <th>2005</th>\n",
       "      <th>2006</th>\n",
       "      <th>2007</th>\n",
       "      <th>2008</th>\n",
       "      <th>2009</th>\n",
       "      <th>2010</th>\n",
       "      <th>2011</th>\n",
       "      <th>2012</th>\n",
       "      <th>2013</th>\n",
       "      <th>2014</th>\n",
       "    </tr>\n",
       "    <tr>\n",
       "      <th>country</th>\n",
       "      <th></th>\n",
       "      <th></th>\n",
       "      <th></th>\n",
       "      <th></th>\n",
       "      <th></th>\n",
       "      <th></th>\n",
       "      <th></th>\n",
       "      <th></th>\n",
       "      <th></th>\n",
       "      <th></th>\n",
       "      <th></th>\n",
       "      <th></th>\n",
       "      <th></th>\n",
       "      <th></th>\n",
       "      <th></th>\n",
       "      <th></th>\n",
       "      <th></th>\n",
       "      <th></th>\n",
       "      <th></th>\n",
       "      <th></th>\n",
       "      <th></th>\n",
       "    </tr>\n",
       "  </thead>\n",
       "  <tbody>\n",
       "    <tr>\n",
       "      <th>Somalia</th>\n",
       "      <td>763</td>\n",
       "      <td>764</td>\n",
       "      <td>765</td>\n",
       "      <td>765</td>\n",
       "      <td>766</td>\n",
       "      <td>767</td>\n",
       "      <td>768</td>\n",
       "      <td>768</td>\n",
       "      <td>769</td>\n",
       "      <td>770</td>\n",
       "      <td>...</td>\n",
       "      <td>616</td>\n",
       "      <td>615</td>\n",
       "      <td>615</td>\n",
       "      <td>615</td>\n",
       "      <td>615</td>\n",
       "      <td>614</td>\n",
       "      <td>614</td>\n",
       "      <td>616</td>\n",
       "      <td>619</td>\n",
       "      <td>621</td>\n",
       "    </tr>\n",
       "  </tbody>\n",
       "</table>\n",
       "<p>1 rows × 115 columns</p>\n",
       "</div>"
      ],
      "text/plain": [
       "         1900  1901  1902  1903  1904  1905  1906  1907  1908  1909  ...  \\\n",
       "country                                                              ...   \n",
       "Somalia   763   764   765   765   766   767   768   768   769   770  ...   \n",
       "\n",
       "         2005  2006  2007  2008  2009  2010  2011  2012  2013  2014  \n",
       "country                                                              \n",
       "Somalia   616   615   615   615   615   614   614   616   619   621  \n",
       "\n",
       "[1 rows x 115 columns]"
      ]
     },
     "execution_count": 42,
     "metadata": {},
     "output_type": "execute_result"
    }
   ],
   "source": [
    "gdp_per_capita[gdp_per_capita[2014] == 621] "
   ]
  },
  {
   "cell_type": "code",
   "execution_count": 43,
   "metadata": {},
   "outputs": [
    {
     "data": {
      "text/html": [
       "<div>\n",
       "<style scoped>\n",
       "    .dataframe tbody tr th:only-of-type {\n",
       "        vertical-align: middle;\n",
       "    }\n",
       "\n",
       "    .dataframe tbody tr th {\n",
       "        vertical-align: top;\n",
       "    }\n",
       "\n",
       "    .dataframe thead th {\n",
       "        text-align: right;\n",
       "    }\n",
       "</style>\n",
       "<table border=\"1\" class=\"dataframe\">\n",
       "  <thead>\n",
       "    <tr style=\"text-align: right;\">\n",
       "      <th></th>\n",
       "      <th>1900</th>\n",
       "      <th>1901</th>\n",
       "      <th>1902</th>\n",
       "      <th>1903</th>\n",
       "      <th>1904</th>\n",
       "      <th>1905</th>\n",
       "      <th>1906</th>\n",
       "      <th>1907</th>\n",
       "      <th>1908</th>\n",
       "      <th>1909</th>\n",
       "      <th>...</th>\n",
       "      <th>2005</th>\n",
       "      <th>2006</th>\n",
       "      <th>2007</th>\n",
       "      <th>2008</th>\n",
       "      <th>2009</th>\n",
       "      <th>2010</th>\n",
       "      <th>2011</th>\n",
       "      <th>2012</th>\n",
       "      <th>2013</th>\n",
       "      <th>2014</th>\n",
       "    </tr>\n",
       "    <tr>\n",
       "      <th>country</th>\n",
       "      <th></th>\n",
       "      <th></th>\n",
       "      <th></th>\n",
       "      <th></th>\n",
       "      <th></th>\n",
       "      <th></th>\n",
       "      <th></th>\n",
       "      <th></th>\n",
       "      <th></th>\n",
       "      <th></th>\n",
       "      <th></th>\n",
       "      <th></th>\n",
       "      <th></th>\n",
       "      <th></th>\n",
       "      <th></th>\n",
       "      <th></th>\n",
       "      <th></th>\n",
       "      <th></th>\n",
       "      <th></th>\n",
       "      <th></th>\n",
       "      <th></th>\n",
       "    </tr>\n",
       "  </thead>\n",
       "  <tbody>\n",
       "    <tr>\n",
       "      <th>Qatar</th>\n",
       "      <td>2200</td>\n",
       "      <td>2230</td>\n",
       "      <td>2270</td>\n",
       "      <td>2300</td>\n",
       "      <td>2330</td>\n",
       "      <td>2370</td>\n",
       "      <td>2400</td>\n",
       "      <td>2440</td>\n",
       "      <td>2470</td>\n",
       "      <td>2510</td>\n",
       "      <td>...</td>\n",
       "      <td>110000</td>\n",
       "      <td>117000</td>\n",
       "      <td>116000</td>\n",
       "      <td>116000</td>\n",
       "      <td>113000</td>\n",
       "      <td>120000</td>\n",
       "      <td>124000</td>\n",
       "      <td>120000</td>\n",
       "      <td>118000</td>\n",
       "      <td>117000</td>\n",
       "    </tr>\n",
       "  </tbody>\n",
       "</table>\n",
       "<p>1 rows × 115 columns</p>\n",
       "</div>"
      ],
      "text/plain": [
       "         1900  1901  1902  1903  1904  1905  1906  1907  1908  1909  ...  \\\n",
       "country                                                              ...   \n",
       "Qatar    2200  2230  2270  2300  2330  2370  2400  2440  2470  2510  ...   \n",
       "\n",
       "           2005    2006    2007    2008    2009    2010    2011    2012  \\\n",
       "country                                                                   \n",
       "Qatar    110000  117000  116000  116000  113000  120000  124000  120000   \n",
       "\n",
       "           2013    2014  \n",
       "country                  \n",
       "Qatar    118000  117000  \n",
       "\n",
       "[1 rows x 115 columns]"
      ]
     },
     "execution_count": 43,
     "metadata": {},
     "output_type": "execute_result"
    }
   ],
   "source": [
    "gdp_per_capita[gdp_per_capita[2014] == 117000] "
   ]
  },
  {
   "cell_type": "code",
   "execution_count": 44,
   "metadata": {},
   "outputs": [
    {
     "data": {
      "text/html": [
       "<div>\n",
       "<style scoped>\n",
       "    .dataframe tbody tr th:only-of-type {\n",
       "        vertical-align: middle;\n",
       "    }\n",
       "\n",
       "    .dataframe tbody tr th {\n",
       "        vertical-align: top;\n",
       "    }\n",
       "\n",
       "    .dataframe thead th {\n",
       "        text-align: right;\n",
       "    }\n",
       "</style>\n",
       "<table border=\"1\" class=\"dataframe\">\n",
       "  <thead>\n",
       "    <tr style=\"text-align: right;\">\n",
       "      <th></th>\n",
       "      <th>1900</th>\n",
       "      <th>1901</th>\n",
       "      <th>1902</th>\n",
       "      <th>1903</th>\n",
       "      <th>1904</th>\n",
       "      <th>1905</th>\n",
       "      <th>1906</th>\n",
       "      <th>1907</th>\n",
       "      <th>1908</th>\n",
       "      <th>1909</th>\n",
       "      <th>...</th>\n",
       "      <th>2005</th>\n",
       "      <th>2006</th>\n",
       "      <th>2007</th>\n",
       "      <th>2008</th>\n",
       "      <th>2009</th>\n",
       "      <th>2010</th>\n",
       "      <th>2011</th>\n",
       "      <th>2012</th>\n",
       "      <th>2013</th>\n",
       "      <th>2014</th>\n",
       "    </tr>\n",
       "    <tr>\n",
       "      <th>country</th>\n",
       "      <th></th>\n",
       "      <th></th>\n",
       "      <th></th>\n",
       "      <th></th>\n",
       "      <th></th>\n",
       "      <th></th>\n",
       "      <th></th>\n",
       "      <th></th>\n",
       "      <th></th>\n",
       "      <th></th>\n",
       "      <th></th>\n",
       "      <th></th>\n",
       "      <th></th>\n",
       "      <th></th>\n",
       "      <th></th>\n",
       "      <th></th>\n",
       "      <th></th>\n",
       "      <th></th>\n",
       "      <th></th>\n",
       "      <th></th>\n",
       "      <th></th>\n",
       "    </tr>\n",
       "  </thead>\n",
       "  <tbody>\n",
       "    <tr>\n",
       "      <th>Ecuador</th>\n",
       "      <td>1270</td>\n",
       "      <td>1300</td>\n",
       "      <td>1320</td>\n",
       "      <td>1350</td>\n",
       "      <td>1380</td>\n",
       "      <td>1400</td>\n",
       "      <td>1430</td>\n",
       "      <td>1460</td>\n",
       "      <td>1500</td>\n",
       "      <td>1550</td>\n",
       "      <td>...</td>\n",
       "      <td>8550</td>\n",
       "      <td>8780</td>\n",
       "      <td>8820</td>\n",
       "      <td>9230</td>\n",
       "      <td>9130</td>\n",
       "      <td>9310</td>\n",
       "      <td>9880</td>\n",
       "      <td>10300</td>\n",
       "      <td>10600</td>\n",
       "      <td>10900</td>\n",
       "    </tr>\n",
       "    <tr>\n",
       "      <th>Paraguay</th>\n",
       "      <td>2280</td>\n",
       "      <td>2310</td>\n",
       "      <td>2340</td>\n",
       "      <td>2370</td>\n",
       "      <td>2400</td>\n",
       "      <td>2430</td>\n",
       "      <td>2460</td>\n",
       "      <td>2490</td>\n",
       "      <td>2520</td>\n",
       "      <td>2550</td>\n",
       "      <td>...</td>\n",
       "      <td>8020</td>\n",
       "      <td>8280</td>\n",
       "      <td>8610</td>\n",
       "      <td>9030</td>\n",
       "      <td>8880</td>\n",
       "      <td>9740</td>\n",
       "      <td>10000</td>\n",
       "      <td>9830</td>\n",
       "      <td>10500</td>\n",
       "      <td>10900</td>\n",
       "    </tr>\n",
       "  </tbody>\n",
       "</table>\n",
       "<p>2 rows × 115 columns</p>\n",
       "</div>"
      ],
      "text/plain": [
       "          1900  1901  1902  1903  1904  1905  1906  1907  1908  1909  ...  \\\n",
       "country                                                               ...   \n",
       "Ecuador   1270  1300  1320  1350  1380  1400  1430  1460  1500  1550  ...   \n",
       "Paraguay  2280  2310  2340  2370  2400  2430  2460  2490  2520  2550  ...   \n",
       "\n",
       "          2005  2006  2007  2008  2009  2010   2011   2012   2013   2014  \n",
       "country                                                                   \n",
       "Ecuador   8550  8780  8820  9230  9130  9310   9880  10300  10600  10900  \n",
       "Paraguay  8020  8280  8610  9030  8880  9740  10000   9830  10500  10900  \n",
       "\n",
       "[2 rows x 115 columns]"
      ]
     },
     "execution_count": 44,
     "metadata": {},
     "output_type": "execute_result"
    }
   ],
   "source": [
    "gdp_per_capita[gdp_per_capita[2014] == 10900.0] "
   ]
  },
  {
   "cell_type": "markdown",
   "metadata": {},
   "source": [
    "Then the countries are as follows:\n",
    "\n",
    "- Somalia is the poorest country.\n",
    "- Qatar is the wealthiest country.\n",
    "- Ecuador and Paraguay are the countries that are in the middle.\n",
    "\n",
    "Let's see if GDP per capita and child mortality are still correlated in our chosen countries."
   ]
  },
  {
   "cell_type": "code",
   "execution_count": 52,
   "metadata": {},
   "outputs": [
    {
     "data": {
      "image/png": "[encoded data removed]",
      "text/plain": [
       "<Figure size 432x288 with 2 Axes>"
      ]
     },
     "metadata": {
      "needs_background": "light"
     },
     "output_type": "display_data"
    }
   ],
   "source": [
    "fig, ax = plt.subplots()\n",
    "ax.bar(gdp_per_capita_t.decades, gdp_per_capita_t['Qatar'], color='red', width=6, alpha=0.1)\n",
    "ax.set_xlabel('Year', fontsize=14)\n",
    "ax.set_ylabel('GDP per capita', color='red', fontsize=14)\n",
    "ax.set_title('GDP per capita and Child mortality agains year, Qatar')\n",
    "\n",
    "ax2 = ax.twinx()\n",
    "ax2.bar(child_mortality_t.decades, child_mortality_t['Qatar'], color='blue', width=6, alpha=0.1)\n",
    "ax2.set_ylabel('child mortality', color='blue', fontsize=14);"
   ]
  },
  {
   "cell_type": "code",
   "execution_count": 53,
   "metadata": {},
   "outputs": [
    {
     "data": {
      "image/png": "[encoded data removed]",
      "text/plain": [
       "<Figure size 432x288 with 2 Axes>"
      ]
     },
     "metadata": {
      "needs_background": "light"
     },
     "output_type": "display_data"
    }
   ],
   "source": [
    "fig, ax = plt.subplots()\n",
    "ax.bar(gdp_per_capita_t.decades, gdp_per_capita_t['Somalia'], color='red', width=6, alpha=0.1)\n",
    "ax.set_xlabel('year', fontsize=14)\n",
    "ax.set_ylabel('gdp per capita', color='red', fontsize=14)\n",
    "ax.set_title('GDP per capita and Child mortality agains year, Somalia')\n",
    "\n",
    "ax2 = ax.twinx()\n",
    "ax2.bar(child_mortality_t.decades, child_mortality_t['Somalia'], color='blue', width=6, alpha=0.1)\n",
    "ax2.set_ylabel('child mortality', color='blue', fontsize=14);"
   ]
  },
  {
   "cell_type": "code",
   "execution_count": 54,
   "metadata": {
    "scrolled": true
   },
   "outputs": [
    {
     "data": {
      "image/png": "[encoded data removed]",
      "text/plain": [
       "<Figure size 432x288 with 2 Axes>"
      ]
     },
     "metadata": {
      "needs_background": "light"
     },
     "output_type": "display_data"
    }
   ],
   "source": [
    "fig, ax = plt.subplots()\n",
    "ax.bar(gdp_per_capita_t.decades, gdp_per_capita_t['Ecuador'], color='red', width=6, alpha=0.1)\n",
    "ax.set_xlabel('year', fontsize=14)\n",
    "ax.set_ylabel('gdp per capita', color='red', fontsize=14)\n",
    "ax.set_title('GDP per capita and Child mortality agains year, Ecuador')\n",
    "\n",
    "ax2 = ax.twinx()\n",
    "ax2.bar(child_mortality_t.decades, child_mortality_t['Ecuador'], color='blue', width=6, alpha=0.1)\n",
    "ax2.set_ylabel('child mortality', color='blue', fontsize=14);"
   ]
  },
  {
   "cell_type": "code",
   "execution_count": 55,
   "metadata": {},
   "outputs": [
    {
     "data": {
      "image/png": "[encoded data removed]",
      "text/plain": [
       "<Figure size 432x288 with 2 Axes>"
      ]
     },
     "metadata": {
      "needs_background": "light"
     },
     "output_type": "display_data"
    }
   ],
   "source": [
    "fig, ax = plt.subplots()\n",
    "ax.bar(gdp_per_capita_t.decades, gdp_per_capita_t['Paraguay'], color='red', width=6, alpha=0.1)\n",
    "ax.set_xlabel('year', fontsize=14)\n",
    "ax.set_ylabel('gdp per capita', color='red', fontsize=14)\n",
    "ax.set_title('GDP per capita and Child mortality agains year, Paraguay')\n",
    "\n",
    "ax2 = ax.twinx()\n",
    "ax2.bar(child_mortality_t.decades, child_mortality_t['Paraguay'], color='blue', width=6, alpha=0.1)\n",
    "ax2.set_ylabel('child mortality', color='blue', fontsize=14);"
   ]
  },
  {
   "cell_type": "markdown",
   "metadata": {},
   "source": [
    "Qatar, Paraguay and Ecuador have a very strong correlation between GDP per capita, or wealth, and a reduction in child mortality. Somalia, on the other hand, has a somewhat steady graph, with no clear correlation between those two variables. Child mortality was reduced a bit, but not as much as in the other cases, and GDP per capita also decreased in the last decades."
   ]
  },
  {
   "cell_type": "markdown",
   "metadata": {},
   "source": [
    "<a id='limitations'></a>\n",
    "## Limitations\n",
    "\n",
    "Most of the questions posed here asked if something could lead to something else. Unfortunately, this analysis cannot reply to those questions. The data and the analysis methods that were used are only enough to find correlations, and make hypothesis about causation. But none of the results found here imply any kind of causation, they only suggest it. \n",
    "\n",
    "Other than that, the data was mostly clean when downloaded, and it is very representative. "
   ]
  },
  {
   "cell_type": "markdown",
   "metadata": {},
   "source": [
    "<a id='conclusions'></a>\n",
    "## Conclusions\n",
    "\n",
    "Answering the first question, the world seems to be getting better off than a century ago. Child mortality decreased a lot overall, the GDP per capita increased a lot and life expectancy increased as well. \n",
    "\n",
    "We saw that GDP per capita is strongly correlated with child mortality, life expectancy and children per woman, which might imply that countries are doing better because they are wealthier, or both variables might be affected by some other variable. \n",
    "\n",
    "To answer the second question, the poorest country (Somalia) does seem to have a lot more children dying than the wealthiest country, and the countries with a middle wealth. \n",
    "\n"
   ]
  },
  {
   "cell_type": "code",
   "execution_count": null,
   "metadata": {},
   "outputs": [],
   "source": []
  }
 ],
 "metadata": {
  "kernelspec": {
   "display_name": "Python 3",
   "language": "python",
   "name": "python3"
  },
  "language_info": {
   "codemirror_mode": {
    "name": "ipython",
    "version": 3
   },
   "file_extension": ".py",
   "mimetype": "text/x-python",
   "name": "python",
   "nbconvert_exporter": "python",
   "pygments_lexer": "ipython3",
   "version": "3.8.8"
  }
 },
 "nbformat": 4,
 "nbformat_minor": 2
}
